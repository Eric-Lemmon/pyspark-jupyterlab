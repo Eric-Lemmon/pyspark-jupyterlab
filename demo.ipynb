{
 "cells": [
  {
   "cell_type": "code",
   "execution_count": null,
   "id": "7df4a6eb-c78c-4d62-9709-df38e3ac7333",
   "metadata": {},
   "outputs": [],
   "source": [
    "%load_ext spark_sql_extension"
   ]
  },
  {
   "cell_type": "code",
   "execution_count": null,
   "id": "984dc0aa-de6c-4be4-a7fb-17440070aa7f",
   "metadata": {},
   "outputs": [],
   "source": [
    "import spark_sql_extension\n",
    "spark = spark_sql_extension.spark"
   ]
  },
  {
   "cell_type": "code",
   "execution_count": null,
   "id": "0eed313a-18e4-442a-b450-ac4e53c9f6e4",
   "metadata": {},
   "outputs": [],
   "source": [
    "df = spark_sql_extension.spark.createDataFrame([[1, \"red\"], [2, \"blue\"], [3, \"yellow\"]], [\"id\", \"color\"])\n",
    "df.write.saveAsTable(\"colors\", mode=\"overwrite\")\n",
    "df.show()"
   ]
  },
  {
   "cell_type": "code",
   "execution_count": null,
   "id": "9c36cc57-b2ea-4c2f-a10a-d896f074ea64",
   "metadata": {},
   "outputs": [],
   "source": [
    "%%sql\n",
    "\n",
    "SHOW TABLES"
   ]
  },
  {
   "cell_type": "code",
   "execution_count": null,
   "id": "58ce89c1-612d-4c12-b2de-bd1108848255",
   "metadata": {},
   "outputs": [],
   "source": [
    "%%sql\n",
    "\n",
    "SELECT *\n",
    "FROM colors"
   ]
  },
  {
   "cell_type": "code",
   "execution_count": null,
   "id": "9e8a670a-7b0b-438f-9ae1-fdfffe975e30",
   "metadata": {},
   "outputs": [],
   "source": [
    "spark.table(\"colors\").show()"
   ]
  }
 ],
 "metadata": {
  "kernelspec": {
   "display_name": "Python 3 (ipykernel)",
   "language": "python",
   "name": "python3"
  },
  "language_info": {
   "codemirror_mode": {
    "name": "ipython",
    "version": 3
   },
   "file_extension": ".py",
   "mimetype": "text/x-python",
   "name": "python",
   "nbconvert_exporter": "python",
   "pygments_lexer": "ipython3",
   "version": "3.12.3"
  }
 },
 "nbformat": 4,
 "nbformat_minor": 5
}
